version https://git-lfs.github.com/spec/v1
oid sha256:c562cf570228c68d16ad9d786934a1ba9c9c87baaf8b02ce8619b1bcd2a8867a
size 1418132
