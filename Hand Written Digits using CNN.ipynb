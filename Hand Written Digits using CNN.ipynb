version https://git-lfs.github.com/spec/v1
oid sha256:d7b7e262581610c80459bca75de1622e83229ae16d10b54136c4871d4021ccc6
size 31808
